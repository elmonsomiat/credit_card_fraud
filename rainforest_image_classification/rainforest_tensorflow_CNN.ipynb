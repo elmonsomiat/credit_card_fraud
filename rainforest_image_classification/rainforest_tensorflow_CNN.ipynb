{
 "cells": [
  {
   "cell_type": "code",
   "execution_count": 1,
   "metadata": {
    "collapsed": true
   },
   "outputs": [],
   "source": [
    "import pandas as pd\n",
    "import numpy as np\n",
    "import sklearn\n",
    "import tensorflow as tf\n",
    "\n",
    "from rainforest_functions import vectorize_categories"
   ]
  },
  {
   "cell_type": "markdown",
   "metadata": {},
   "source": [
    "## Here starts the program"
   ]
  },
  {
   "cell_type": "code",
   "execution_count": 2,
   "metadata": {
    "collapsed": false
   },
   "outputs": [],
   "source": [
    "mypath = '/Users/AnaSolaguren-Beascoa/Pictures/train-jpg/'"
   ]
  },
  {
   "cell_type": "code",
   "execution_count": null,
   "metadata": {
    "collapsed": false
   },
   "outputs": [],
   "source": [
    "pixel_df = pd.read_csv(mypath+'pixels_small_2.csv')\n",
    "pixel_df = pixel_df.drop('Unnamed: 0',axis=1)"
   ]
  },
  {
   "cell_type": "code",
   "execution_count": null,
   "metadata": {
    "collapsed": false
   },
   "outputs": [],
   "source": []
  },
  {
   "cell_type": "code",
   "execution_count": 40,
   "metadata": {
    "collapsed": true
   },
   "outputs": [],
   "source": [
    "num_files = pixel_df.shape[0]"
   ]
  },
  {
   "cell_type": "code",
   "execution_count": 41,
   "metadata": {
    "collapsed": false
   },
   "outputs": [],
   "source": [
    "image_name_df = pd.read_csv('train_v2.csv')\n",
    "image_name_df_0 = image_name_df.ix[0:num_files-1]"
   ]
  },
  {
   "cell_type": "code",
   "execution_count": 42,
   "metadata": {
    "collapsed": true
   },
   "outputs": [],
   "source": [
    "categories = image_name_df_0['tags'].str.split(' ', expand=True).stack().unique()"
   ]
  },
  {
   "cell_type": "code",
   "execution_count": 43,
   "metadata": {
    "collapsed": false
   },
   "outputs": [],
   "source": [
    "result = pd.merge(pixel_df, image_name_df_0, on='image_name')"
   ]
  },
  {
   "cell_type": "code",
   "execution_count": 44,
   "metadata": {
    "collapsed": true
   },
   "outputs": [],
   "source": [
    "X = result.drop(['tags','image_name'],axis=1)\n",
    "y_all = result['tags']"
   ]
  },
  {
   "cell_type": "code",
   "execution_count": 45,
   "metadata": {
    "collapsed": false
   },
   "outputs": [],
   "source": [
    "vectorize_categories(categories, y_all)"
   ]
  },
  {
   "cell_type": "code",
   "execution_count": 46,
   "metadata": {
    "collapsed": false
   },
   "outputs": [],
   "source": [
    "y_vec_mine = pd.DataFrame(columns=['IF','NOTIF'], index=range(y_vec_all.shape[0]))\n",
    "y_vec_mine['IF'] = y_vec_all\n",
    "\n",
    "y_vec_mine.loc[y_vec_mine['IF'] == 1, 'NOTIF'] = 0\n",
    "y_vec_mine.loc[y_vec_mine['IF'] == 0, 'NOTIF'] = 1"
   ]
  },
  {
   "cell_type": "markdown",
   "metadata": {},
   "source": [
    "Lets symmetrise the data"
   ]
  },
  {
   "cell_type": "code",
   "execution_count": 17,
   "metadata": {
    "collapsed": true
   },
   "outputs": [],
   "source": [
    "#this is the data corresponding to fraud\n",
    "data_df = pd.concat([X, y_vec_mine],axis=1)\n",
    "data_IF_df = data_df[data_df.IF==1]\n",
    "data_IF_df = data_IF_df.reset_index(drop=True)\n",
    "\n",
    "#this is the data corresponding to non-fraud\n",
    "data_NOTIF_df = data_df[data_df.IF==0]\n",
    "data_NOTIF_df = data_NOTIF_df.reset_index(drop=True)\n",
    "data_red_NOTIF_df = \\\n",
    "    data_NOTIF_df.ix[np.random.randint(1, max(data_NOTIF_df.index),max(data_IF_df.index)+1)]\n",
    "data_red_NOTIF_df = data_red_NOTIF_df.reset_index(drop=True)"
   ]
  },
  {
   "cell_type": "code",
   "execution_count": 18,
   "metadata": {
    "collapsed": true
   },
   "outputs": [],
   "source": [
    "data_red_df = pd.concat([data_IF_df, data_red_NOTIF_df])\n",
    "data_red_df = data_red_df.sample(frac=1).reset_index(drop=True)\n",
    "\n",
    "X = data_red_df.drop(['IF', 'NOTIF'],axis=1)\n",
    "y_vec_mine = pd.concat([data_red_df['IF'], data_red_df['NOTIF']],axis=1)"
   ]
  },
  {
   "cell_type": "code",
   "execution_count": 47,
   "metadata": {
    "collapsed": false
   },
   "outputs": [],
   "source": [
    "from sklearn.model_selection import train_test_split\n",
    "\n",
    "X_train, X_test, y_train, y_test = train_test_split(X, y_vec_mine, test_size=0.25)"
   ]
  },
  {
   "cell_type": "code",
   "execution_count": 48,
   "metadata": {
    "collapsed": false
   },
   "outputs": [],
   "source": [
    "from sklearn.preprocessing import StandardScaler\n",
    "scaler = StandardScaler()\n",
    "\n",
    "X_train = pd.DataFrame(scaler.fit_transform(X_train))\n",
    "X_test = pd.DataFrame(scaler.fit_transform(X_test))\n",
    "\n",
    "y_train = y_train.reset_index(drop=True)\n",
    "y_test = y_test.reset_index(drop=True)\n"
   ]
  },
  {
   "cell_type": "code",
   "execution_count": null,
   "metadata": {
    "collapsed": false
   },
   "outputs": [],
   "source": []
  },
  {
   "cell_type": "markdown",
   "metadata": {},
   "source": [
    "Here we start to define our neural network"
   ]
  },
  {
   "cell_type": "code",
   "execution_count": 49,
   "metadata": {
    "collapsed": true
   },
   "outputs": [],
   "source": [
    "def weight_variable(shape):\n",
    "    initial = tf.truncated_normal(shape, stddev=0.1)\n",
    "    return tf.Variable(initial)\n",
    "\n",
    "def bias_variable(shape):\n",
    "    initial = tf.constant(0.1, shape=shape)\n",
    "    return tf.Variable(initial)\n",
    "def conv2d(x, W):\n",
    "    return tf.nn.conv2d(x, W, strides=[1, 1, 1, 1], padding='SAME')\n",
    "\n",
    "def max_pool_2x2(x):\n",
    "    return tf.nn.max_pool(x, ksize=[1, 2, 2, 1],\\\n",
    "                        strides=[1, 2, 2, 1], padding='SAME')"
   ]
  },
  {
   "cell_type": "code",
   "execution_count": null,
   "metadata": {
    "collapsed": false
   },
   "outputs": [],
   "source": []
  },
  {
   "cell_type": "code",
   "execution_count": 50,
   "metadata": {
    "collapsed": false
   },
   "outputs": [],
   "source": [
    "lenx = X.shape[1]\n",
    "#leny = len(categories)\n",
    "leny = y_vec_mine.shape[1]\n",
    "\n",
    "\n",
    "x = tf.placeholder(tf.float32, shape=[None, lenx])\n",
    "y_ = tf.placeholder(tf.float32, shape=[None, leny])\n",
    "\n",
    "x_image = tf.reshape(x, [-1, int(np.sqrt(lenx)), int(np.sqrt(lenx)), 1])\n",
    "x_image = tf.cast(x_image, tf.float32)\n",
    "#layer 1\n",
    "\n",
    "W_conv1 = weight_variable([5, 5, 1, 32])\n",
    "b_conv1 = bias_variable([32])\n",
    "\n",
    "h_conv1 = tf.nn.relu(conv2d(x_image, W_conv1) + b_conv1)\n",
    "h_pool1 = max_pool_2x2(h_conv1)\n",
    "\n",
    "\n",
    "#layer 2\n",
    "W_conv2 = weight_variable([20, 20, 32, 64])\n",
    "b_conv2 = bias_variable([64])\n",
    "\n",
    "h_conv2 = tf.nn.relu(conv2d(h_pool1, W_conv2) + b_conv2)\n",
    "h_pool2 = max_pool_2x2(h_conv2)\n",
    "\n",
    "#layer 3\n",
    "W_fc1 = weight_variable([int(np.sqrt(lenx)/4)*int(np.sqrt(lenx)/4)*64, 1024])\n",
    "b_fc1 = bias_variable([1024])\n",
    "\n",
    "h_pool2_flat = tf.reshape(h_pool2, [-1, int(np.sqrt(lenx)/4)*int(np.sqrt(lenx)/4)*64])\n",
    "h_fc1 = tf.nn.relu(tf.matmul(h_pool2_flat, W_fc1) + b_fc1)\n",
    "\n",
    "#layer 4\n",
    "keep_prob = tf.placeholder(tf.float32)\n",
    "h_fc1_drop = tf.nn.dropout(h_fc1, keep_prob)\n",
    "\n",
    "#layer 5\n",
    "W_fc2 = weight_variable([1024, leny])\n",
    "b_fc2 = bias_variable([leny])\n",
    "\n",
    "y_conv = tf.matmul(h_fc1_drop, W_fc2) + b_fc2\n",
    "\n",
    "#output\n",
    "y = y_conv\n"
   ]
  },
  {
   "cell_type": "code",
   "execution_count": null,
   "metadata": {
    "collapsed": false
   },
   "outputs": [],
   "source": []
  },
  {
   "cell_type": "code",
   "execution_count": 51,
   "metadata": {
    "collapsed": false
   },
   "outputs": [
    {
     "data": {
      "text/plain": [
       "30359"
      ]
     },
     "execution_count": 51,
     "metadata": {},
     "output_type": "execute_result"
    }
   ],
   "source": [
    "X_train.shape[0]"
   ]
  },
  {
   "cell_type": "code",
   "execution_count": 78,
   "metadata": {
    "collapsed": false,
    "scrolled": true
   },
   "outputs": [
    {
     "name": "stdout",
     "output_type": "stream",
     "text": [
      "step 0, training accuracy 0.3\n",
      "step 100, training accuracy 0.366667\n",
      "step 200, training accuracy 0.633333\n",
      "step 300, training accuracy 0.7\n",
      "step 400, training accuracy 0.666667\n",
      "step 500, training accuracy 0.7\n",
      "step 600, training accuracy 0.633333\n",
      "step 700, training accuracy 0.7\n",
      "step 800, training accuracy 0.7\n",
      "step 900, training accuracy 0.633333\n"
     ]
    }
   ],
   "source": [
    "cross_entropy = tf.reduce_mean(tf.nn.softmax_cross_entropy_with_logits(labels=y_, logits=y_conv))\n",
    "train_step = tf.train.AdamOptimizer(0.0001).minimize(cross_entropy)\n",
    "\n",
    "#cross_entropy = tf.reduce_mean(-tf.reduce_sum(y_ * tf.log(y), reduction_indices=[1]))\n",
    "#train_step = tf.train.GradientDescentOptimizer(0.0001).minimize(cross_entropy)\n",
    "\n",
    "correct_prediction = tf.equal(tf.argmax(y_conv, 1), tf.argmax(y_, 1))\n",
    "accuracy = tf.reduce_mean(tf.cast(correct_prediction, tf.float32))\n",
    "\n",
    "steps = 1000\n",
    "batchsize = int(X_train.shape[0]/steps)\n",
    "i = 0\n",
    "sess = tf.Session()\n",
    "sess.run(tf.global_variables_initializer())\n",
    "for k in range(steps):\n",
    "    batch_xs = X_train.iloc[i:i+batchsize,:].as_matrix().astype(np.float32)\n",
    "    batch_ys = y_train.iloc[i:i+batchsize].as_matrix().astype(np.float32)\n",
    "    if k % 100 == 0:\n",
    "        train_accuracy = sess.run(accuracy,feed_dict={x: batch_xs, y_: batch_ys, keep_prob: 1.0})\n",
    "        print('step %d, training accuracy %g' % (k, train_accuracy))\n",
    "        sess.run(train_step, feed_dict={x: batch_xs, y_: batch_ys, keep_prob: 0.5})\n",
    "            \n",
    "    i += batchsize\n",
    "    "
   ]
  },
  {
   "cell_type": "code",
   "execution_count": 76,
   "metadata": {
    "collapsed": false
   },
   "outputs": [
    {
     "data": {
      "text/plain": [
       "<tf.Tensor 'Mean_14:0' shape=() dtype=float32>"
      ]
     },
     "execution_count": 76,
     "metadata": {},
     "output_type": "execute_result"
    }
   ],
   "source": [
    "print(sess.run(accuracy, feed_dict={x: X_test.iloc[:5,:], y_: batch_ys, keep_prob: 1.0}))"
   ]
  },
  {
   "cell_type": "code",
   "execution_count": 85,
   "metadata": {
    "collapsed": false
   },
   "outputs": [
    {
     "data": {
      "text/plain": [
       "array([[ -41.65432358,  -67.79103851],\n",
       "       [ -51.12691879,   21.2522049 ],\n",
       "       [ -71.39070129,   55.69518661],\n",
       "       [ -99.86793518,   89.54359436],\n",
       "       [-138.02716064, -109.19327545],\n",
       "       [ -60.01911545,   21.65198135]], dtype=float32)"
      ]
     },
     "execution_count": 85,
     "metadata": {},
     "output_type": "execute_result"
    }
   ],
   "source": [
    "answer = sess.run(y, feed_dict={x: X_train.iloc[:6,:], keep_prob: 1})\n",
    "answer"
   ]
  },
  {
   "cell_type": "code",
   "execution_count": null,
   "metadata": {
    "collapsed": false
   },
   "outputs": [],
   "source": []
  },
  {
   "cell_type": "code",
   "execution_count": null,
   "metadata": {
    "collapsed": false
   },
   "outputs": [],
   "source": []
  },
  {
   "cell_type": "code",
   "execution_count": null,
   "metadata": {
    "collapsed": false
   },
   "outputs": [],
   "source": [
    "answer = sess.run(y, feed_dict={x: X_test.as_matrix()})\n",
    "answer\n"
   ]
  },
  {
   "cell_type": "code",
   "execution_count": null,
   "metadata": {
    "collapsed": false
   },
   "outputs": [],
   "source": [
    "for i in range(len(answer)):\n",
    "    if answer[i][0]>answer[i][1]:\n",
    "        answer[i][0]=1\n",
    "        answer[i][1]=0\n",
    "    else:\n",
    "        answer[i][1]=1\n",
    "        answer[i][0]=0\n",
    "        "
   ]
  },
  {
   "cell_type": "code",
   "execution_count": null,
   "metadata": {
    "collapsed": false
   },
   "outputs": [],
   "source": [
    "answer"
   ]
  },
  {
   "cell_type": "code",
   "execution_count": null,
   "metadata": {
    "collapsed": false
   },
   "outputs": [],
   "source": [
    "from sklearn.metrics import accuracy_score, fbeta_score\n",
    "\n",
    "\n",
    "accuracy_score(pd.DataFrame(answer)[0], y_test['IF'])"
   ]
  },
  {
   "cell_type": "code",
   "execution_count": null,
   "metadata": {
    "collapsed": false
   },
   "outputs": [],
   "source": [
    "print(fbeta_score(pd.DataFrame(answer)[0], y_test['IF'],beta=2, average='weighted'))"
   ]
  },
  {
   "cell_type": "code",
   "execution_count": null,
   "metadata": {
    "collapsed": false
   },
   "outputs": [],
   "source": [
    "answer_train = sess.run(y, feed_dict={x: X_train.as_matrix()})\n",
    "for i in range(len(answer_train)):\n",
    "    if answer_train[i][0]>answer_train[i][1]:\n",
    "        answer_train[i][0]=1\n",
    "        answer_train[i][1]=0\n",
    "    else:\n",
    "        answer_train[i][1]=1\n",
    "        answer_train[i][0]=0\n",
    "        \n",
    "\n",
    "print(fbeta_score(pd.DataFrame(answer_train)[0], y_train['IF'],beta=2, average='weighted'))"
   ]
  },
  {
   "cell_type": "code",
   "execution_count": null,
   "metadata": {
    "collapsed": false
   },
   "outputs": [],
   "source": [
    "pd.DataFrame(answer_train)[0].shape"
   ]
  },
  {
   "cell_type": "code",
   "execution_count": null,
   "metadata": {
    "collapsed": false
   },
   "outputs": [],
   "source": [
    "y_train['IF'].shape"
   ]
  },
  {
   "cell_type": "code",
   "execution_count": null,
   "metadata": {
    "collapsed": false
   },
   "outputs": [],
   "source": []
  },
  {
   "cell_type": "code",
   "execution_count": null,
   "metadata": {
    "collapsed": true
   },
   "outputs": [],
   "source": []
  }
 ],
 "metadata": {
  "kernelspec": {
   "display_name": "Python 3",
   "language": "python",
   "name": "python3"
  },
  "language_info": {
   "codemirror_mode": {
    "name": "ipython",
    "version": 3
   },
   "file_extension": ".py",
   "mimetype": "text/x-python",
   "name": "python",
   "nbconvert_exporter": "python",
   "pygments_lexer": "ipython3",
   "version": "3.6.0"
  }
 },
 "nbformat": 4,
 "nbformat_minor": 2
}
