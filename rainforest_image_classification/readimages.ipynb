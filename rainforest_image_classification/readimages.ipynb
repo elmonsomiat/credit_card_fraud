{
 "cells": [
  {
   "cell_type": "code",
   "execution_count": 1,
   "metadata": {
    "collapsed": false
   },
   "outputs": [],
   "source": [
    "import sklearn\n",
    "import pandas as pd\n",
    "import numpy as np\n",
    "import tensorflow as tf\n",
    "import scipy\n",
    "\n",
    "from rainforest_functions import image_to_df, write_pixels_to_file\n",
    "\n",
    "import sys\n",
    "from PIL import Image"
   ]
  },
  {
   "cell_type": "code",
   "execution_count": 2,
   "metadata": {
    "collapsed": true
   },
   "outputs": [],
   "source": [
    "from os import listdir\n",
    "from os.path import isfile, join\n",
    "\n",
    "mypath = '/Users/AnaSolaguren-Beascoa/Pictures/train_pics/'"
   ]
  },
  {
   "cell_type": "code",
   "execution_count": 3,
   "metadata": {
    "collapsed": true
   },
   "outputs": [],
   "source": [
    "onlyfiles = [f for f in listdir(mypath) if isfile(join(mypath, f))]\n",
    "num_files = len(onlyfiles)"
   ]
  },
  {
   "cell_type": "code",
   "execution_count": 4,
   "metadata": {
    "collapsed": false,
    "scrolled": true
   },
   "outputs": [
    {
     "name": "stdout",
     "output_type": "stream",
     "text": [
      "...........1000\n",
      "..........2000\n",
      "..........3000\n",
      "..........4000\n",
      "..........5000\n",
      "..........6000\n",
      "..........7000\n",
      "..........8000\n",
      "..........9000\n",
      "..........10000\n",
      "..........11000\n",
      "..........12000\n",
      "..........13000\n",
      "..........14000\n",
      "..........15000\n",
      "..........16000\n",
      "..........17000\n",
      "..........18000\n",
      "..........19000\n",
      "..........20000\n",
      "..........21000\n",
      "..........22000\n",
      "..........23000\n",
      "..........24000\n",
      "..........25000\n",
      "..........26000\n",
      "..........27000\n",
      "..........28000\n",
      "..........29000\n",
      "..........30000\n",
      "..........31000\n",
      "..........32000\n",
      "..........33000\n",
      "..........34000\n",
      "..........35000\n",
      "..........36000\n",
      "..........37000\n",
      "..........38000\n",
      "..........39000\n",
      "..........40000\n",
      "....end\n",
      "...........1000\n",
      "..........2000\n",
      "..........3000\n",
      "..........4000\n",
      "..........5000\n",
      "..........6000\n",
      "..........7000\n",
      "..........8000\n",
      "..........9000\n",
      "..........10000\n",
      "..........11000\n",
      "..........12000\n",
      "..........13000\n",
      "..........14000\n",
      "..........15000\n",
      "..........16000\n",
      "..........17000\n",
      "..........18000\n",
      "..........19000\n",
      "..........20000\n",
      "..........21000\n",
      "..........22000\n",
      "..........23000\n",
      "..........24000\n",
      "..........25000\n",
      "..........26000\n",
      "..........27000\n",
      "..........28000\n",
      "..........29000\n",
      "..........30000\n",
      "..........31000\n",
      "..........32000\n",
      "..........33000\n",
      "..........34000\n",
      "..........35000\n",
      "..........36000\n",
      "..........37000\n",
      "..........38000\n",
      "..........39000\n",
      "..........40000\n",
      "....end\n",
      "...........1000\n",
      "..........2000\n",
      "..........3000\n",
      "..........4000\n",
      "..........5000\n",
      "..........6000\n",
      "..........7000\n",
      "..........8000\n",
      "..........9000\n",
      "..........10000\n",
      "..........11000\n",
      "..........12000\n",
      "..........13000\n",
      "..........14000\n",
      "..........15000\n",
      "..........16000\n",
      "..........17000\n",
      "..........18000\n",
      "..........19000\n",
      "..........20000\n",
      "..........21000\n",
      "..........22000\n",
      "..........23000\n",
      "..........24000\n",
      "..........25000\n",
      "..........26000\n",
      "..........27000\n",
      "..........28000\n",
      "..........29000\n",
      "..........30000\n",
      "..........31000\n",
      "..........32000\n",
      "..........33000\n",
      "..........34000\n",
      "..........35000\n",
      "..........36000\n",
      "..........37000\n",
      "..........38000\n",
      "..........39000\n",
      "..........40000\n",
      "....end\n"
     ]
    }
   ],
   "source": [
    "outpath = '/Users/AnaSolaguren-Beascoa/Pictures/train-jpg/'\n",
    "\n",
    "write_pixels_to_file(outpath+'pixels_R.csv', mypath, onlyfiles, (80,80),0)\n",
    "write_pixels_to_file(outpath+'pixels_G.csv', mypath, onlyfiles, (80,80),1)\n",
    "write_pixels_to_file(outpath+'pixels_B.csv', mypath, onlyfiles, (80,80),2)\n"
   ]
  },
  {
   "cell_type": "code",
   "execution_count": null,
   "metadata": {
    "collapsed": true
   },
   "outputs": [],
   "source": []
  }
 ],
 "metadata": {
  "kernelspec": {
   "display_name": "Python 3",
   "language": "python",
   "name": "python3"
  },
  "language_info": {
   "codemirror_mode": {
    "name": "ipython",
    "version": 3
   },
   "file_extension": ".py",
   "mimetype": "text/x-python",
   "name": "python",
   "nbconvert_exporter": "python",
   "pygments_lexer": "ipython3",
   "version": "3.6.0"
  }
 },
 "nbformat": 4,
 "nbformat_minor": 2
}
